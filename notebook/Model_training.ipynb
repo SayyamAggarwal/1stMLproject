{
 "cells": [
  {
   "cell_type": "code",
   "execution_count": 1,
   "id": "24194353",
   "metadata": {},
   "outputs": [],
   "source": [
    "##Model training\n",
    "from sklearn.metrics import mean_squared_error,mean_absolute_error,r2_score\n",
    "from sklearn.neighbors import KNeighborsRegressor\n",
    "from sklearn.tree import DecisionTreeRegressor\n",
    "from sklearn.svm import SVR\n",
    "from sklearn.linear_model import LinearRegression,Ridge,Lasso\n",
    "from sklearn.ensemble import RandomForestRegressor,AdaBoostRegressor,GradientBoostingRegressor\n",
    "from sklearn.model_selection import RandomizedSearchCV,train_test_split\n",
    "from xgboost import XGBRegressor\n",
    "from sklearn.preprocessing import StandardScaler\n",
    "from catboost import CatBoostRegressor\n"
   ]
  },
  {
   "cell_type": "code",
   "execution_count": 2,
   "metadata": {},
   "outputs": [],
   "source": [
    "import pandas as pd\n",
    "import numpy as np\n",
    "import matplotlib.pyplot as plt\n",
    "import seaborn as sns\n"
   ]
  },
  {
   "cell_type": "code",
   "execution_count": 3,
   "id": "dbbf9259",
   "metadata": {},
   "outputs": [
    {
     "data": {
      "text/html": [
       "<div>\n",
       "<style scoped>\n",
       "    .dataframe tbody tr th:only-of-type {\n",
       "        vertical-align: middle;\n",
       "    }\n",
       "\n",
       "    .dataframe tbody tr th {\n",
       "        vertical-align: top;\n",
       "    }\n",
       "\n",
       "    .dataframe thead th {\n",
       "        text-align: right;\n",
       "    }\n",
       "</style>\n",
       "<table border=\"1\" class=\"dataframe\">\n",
       "  <thead>\n",
       "    <tr style=\"text-align: right;\">\n",
       "      <th></th>\n",
       "      <th>gender</th>\n",
       "      <th>race/ethnicity</th>\n",
       "      <th>parental level of education</th>\n",
       "      <th>lunch</th>\n",
       "      <th>test preparation course</th>\n",
       "      <th>math score</th>\n",
       "      <th>reading score</th>\n",
       "      <th>writing score</th>\n",
       "    </tr>\n",
       "  </thead>\n",
       "  <tbody>\n",
       "    <tr>\n",
       "      <th>0</th>\n",
       "      <td>female</td>\n",
       "      <td>group B</td>\n",
       "      <td>bachelor's degree</td>\n",
       "      <td>standard</td>\n",
       "      <td>none</td>\n",
       "      <td>72</td>\n",
       "      <td>72</td>\n",
       "      <td>74</td>\n",
       "    </tr>\n",
       "    <tr>\n",
       "      <th>1</th>\n",
       "      <td>female</td>\n",
       "      <td>group C</td>\n",
       "      <td>some college</td>\n",
       "      <td>standard</td>\n",
       "      <td>completed</td>\n",
       "      <td>69</td>\n",
       "      <td>90</td>\n",
       "      <td>88</td>\n",
       "    </tr>\n",
       "    <tr>\n",
       "      <th>2</th>\n",
       "      <td>female</td>\n",
       "      <td>group B</td>\n",
       "      <td>master's degree</td>\n",
       "      <td>standard</td>\n",
       "      <td>none</td>\n",
       "      <td>90</td>\n",
       "      <td>95</td>\n",
       "      <td>93</td>\n",
       "    </tr>\n",
       "    <tr>\n",
       "      <th>3</th>\n",
       "      <td>male</td>\n",
       "      <td>group A</td>\n",
       "      <td>associate's degree</td>\n",
       "      <td>free/reduced</td>\n",
       "      <td>none</td>\n",
       "      <td>47</td>\n",
       "      <td>57</td>\n",
       "      <td>44</td>\n",
       "    </tr>\n",
       "    <tr>\n",
       "      <th>4</th>\n",
       "      <td>male</td>\n",
       "      <td>group C</td>\n",
       "      <td>some college</td>\n",
       "      <td>standard</td>\n",
       "      <td>none</td>\n",
       "      <td>76</td>\n",
       "      <td>78</td>\n",
       "      <td>75</td>\n",
       "    </tr>\n",
       "    <tr>\n",
       "      <th>...</th>\n",
       "      <td>...</td>\n",
       "      <td>...</td>\n",
       "      <td>...</td>\n",
       "      <td>...</td>\n",
       "      <td>...</td>\n",
       "      <td>...</td>\n",
       "      <td>...</td>\n",
       "      <td>...</td>\n",
       "    </tr>\n",
       "    <tr>\n",
       "      <th>995</th>\n",
       "      <td>female</td>\n",
       "      <td>group E</td>\n",
       "      <td>master's degree</td>\n",
       "      <td>standard</td>\n",
       "      <td>completed</td>\n",
       "      <td>88</td>\n",
       "      <td>99</td>\n",
       "      <td>95</td>\n",
       "    </tr>\n",
       "    <tr>\n",
       "      <th>996</th>\n",
       "      <td>male</td>\n",
       "      <td>group C</td>\n",
       "      <td>high school</td>\n",
       "      <td>free/reduced</td>\n",
       "      <td>none</td>\n",
       "      <td>62</td>\n",
       "      <td>55</td>\n",
       "      <td>55</td>\n",
       "    </tr>\n",
       "    <tr>\n",
       "      <th>997</th>\n",
       "      <td>female</td>\n",
       "      <td>group C</td>\n",
       "      <td>high school</td>\n",
       "      <td>free/reduced</td>\n",
       "      <td>completed</td>\n",
       "      <td>59</td>\n",
       "      <td>71</td>\n",
       "      <td>65</td>\n",
       "    </tr>\n",
       "    <tr>\n",
       "      <th>998</th>\n",
       "      <td>female</td>\n",
       "      <td>group D</td>\n",
       "      <td>some college</td>\n",
       "      <td>standard</td>\n",
       "      <td>completed</td>\n",
       "      <td>68</td>\n",
       "      <td>78</td>\n",
       "      <td>77</td>\n",
       "    </tr>\n",
       "    <tr>\n",
       "      <th>999</th>\n",
       "      <td>female</td>\n",
       "      <td>group D</td>\n",
       "      <td>some college</td>\n",
       "      <td>free/reduced</td>\n",
       "      <td>none</td>\n",
       "      <td>77</td>\n",
       "      <td>86</td>\n",
       "      <td>86</td>\n",
       "    </tr>\n",
       "  </tbody>\n",
       "</table>\n",
       "<p>1000 rows × 8 columns</p>\n",
       "</div>"
      ],
      "text/plain": [
       "     gender race/ethnicity parental level of education         lunch  \\\n",
       "0    female        group B           bachelor's degree      standard   \n",
       "1    female        group C                some college      standard   \n",
       "2    female        group B             master's degree      standard   \n",
       "3      male        group A          associate's degree  free/reduced   \n",
       "4      male        group C                some college      standard   \n",
       "..      ...            ...                         ...           ...   \n",
       "995  female        group E             master's degree      standard   \n",
       "996    male        group C                 high school  free/reduced   \n",
       "997  female        group C                 high school  free/reduced   \n",
       "998  female        group D                some college      standard   \n",
       "999  female        group D                some college  free/reduced   \n",
       "\n",
       "    test preparation course  math score  reading score  writing score  \n",
       "0                      none          72             72             74  \n",
       "1                 completed          69             90             88  \n",
       "2                      none          90             95             93  \n",
       "3                      none          47             57             44  \n",
       "4                      none          76             78             75  \n",
       "..                      ...         ...            ...            ...  \n",
       "995               completed          88             99             95  \n",
       "996                    none          62             55             55  \n",
       "997               completed          59             71             65  \n",
       "998               completed          68             78             77  \n",
       "999                    none          77             86             86  \n",
       "\n",
       "[1000 rows x 8 columns]"
      ]
     },
     "execution_count": 3,
     "metadata": {},
     "output_type": "execute_result"
    }
   ],
   "source": [
    "df = pd.read_csv(\"StudentsPerformance.csv\")\n",
    "df"
   ]
  },
  {
   "cell_type": "code",
   "execution_count": 4,
   "metadata": {},
   "outputs": [],
   "source": [
    "X = df.drop(columns=['math score'],axis = 1)"
   ]
  },
  {
   "cell_type": "code",
   "execution_count": 5,
   "id": "2077fce7",
   "metadata": {},
   "outputs": [
    {
     "data": {
      "text/plain": [
       "0      72\n",
       "1      69\n",
       "2      90\n",
       "3      47\n",
       "4      76\n",
       "       ..\n",
       "995    88\n",
       "996    62\n",
       "997    59\n",
       "998    68\n",
       "999    77\n",
       "Name: math score, Length: 1000, dtype: int64"
      ]
     },
     "execution_count": 5,
     "metadata": {},
     "output_type": "execute_result"
    }
   ],
   "source": [
    "Y = df['math score']\n",
    "Y"
   ]
  },
  {
   "cell_type": "code",
   "execution_count": 6,
   "id": "54bd91fe",
   "metadata": {},
   "outputs": [],
   "source": [
    "num_features = X.select_dtypes(exclude='object').columns\n",
    "cat_features = X.select_dtypes(include='object').columns"
   ]
  },
  {
   "cell_type": "code",
   "execution_count": 7,
   "metadata": {},
   "outputs": [],
   "source": [
    "from sklearn.preprocessing import OneHotEncoder\n",
    "from sklearn.compose import ColumnTransformer\n",
    "num_transformer = StandardScaler()\n",
    "cat_transformer = OneHotEncoder()\n",
    "\n",
    "\n",
    "preprocessor = ColumnTransformer([\n",
    "    ('onehotencoder',cat_transformer,cat_features),\n",
    "    (\"standardscaler\",num_transformer,num_features)\n",
    "])\n",
    "\n",
    "\n",
    "\n"
   ]
  },
  {
   "cell_type": "code",
   "execution_count": 8,
   "id": "ed49fa0b",
   "metadata": {},
   "outputs": [],
   "source": [
    "X = preprocessor.fit_transform(X)\n"
   ]
  },
  {
   "cell_type": "code",
   "execution_count": 9,
   "id": "f111434a",
   "metadata": {},
   "outputs": [
    {
     "data": {
      "text/plain": [
       "(1000, 19)"
      ]
     },
     "execution_count": 9,
     "metadata": {},
     "output_type": "execute_result"
    }
   ],
   "source": [
    "X.shape"
   ]
  },
  {
   "cell_type": "code",
   "execution_count": 10,
   "id": "cba2a22f",
   "metadata": {},
   "outputs": [],
   "source": [
    "X_train,X_test,Y_train,Y_test = train_test_split(X,Y,test_size=0.2,random_state=42)\n"
   ]
  },
  {
   "cell_type": "code",
   "execution_count": 15,
   "id": "db61478c",
   "metadata": {},
   "outputs": [
    {
     "data": {
      "text/plain": [
       "((800, 19), (200, 19))"
      ]
     },
     "execution_count": 15,
     "metadata": {},
     "output_type": "execute_result"
    }
   ],
   "source": [
    "X_train.shape,X_test.shape"
   ]
  },
  {
   "cell_type": "code",
   "execution_count": 16,
   "metadata": {},
   "outputs": [],
   "source": [
    "def evaluate_model(true,pred):\n",
    "    mae = mean_absolute_error(true,pred)\n",
    "    mse = mean_squared_error(true,pred)\n",
    "    rmse = np.sqrt(mse)\n",
    "    score = r2_score(true,pred)\n",
    "    return mae,mse,rmse,score\n"
   ]
  },
  {
   "cell_type": "code",
   "execution_count": 19,
   "metadata": {},
   "outputs": [
    {
     "name": "stdout",
     "output_type": "stream",
     "text": [
      "LinearRegression\n",
      "Model Performance For Training Set\n",
      "Root Mean Squared Error:  5.323050852720514\n",
      "Mean Absolute Error:  4.266711846071957\n",
      "Mean Squared Error:  28.33487038064859\n",
      "R2 Score:  0.8743172040139593\n",
      "----------------------------------------------------------------------------------------------------\n",
      "Model Performance For Testing Set\n",
      "Root Mean Squared Error:  5.393993869732843\n",
      "Mean Absolute Error:  4.21476314247485\n",
      "Mean Squared Error:  29.095169866715487\n",
      "R2 Score:  0.8804332983749565\n",
      "====================================================================================================\n",
      "Lasso\n",
      "Model Performance For Training Set\n",
      "Root Mean Squared Error:  6.593815587795566\n",
      "Mean Absolute Error:  5.206302661246526\n",
      "Mean Squared Error:  43.47840400585579\n",
      "R2 Score:  0.8071462015863456\n",
      "----------------------------------------------------------------------------------------------------\n",
      "Model Performance For Testing Set\n",
      "Root Mean Squared Error:  6.519694535667419\n",
      "Mean Absolute Error:  5.157881810347763\n",
      "Mean Squared Error:  42.5064168384116\n",
      "R2 Score:  0.8253197323627853\n",
      "====================================================================================================\n",
      "Ridge\n",
      "Model Performance For Training Set\n",
      "Root Mean Squared Error:  5.323324922741654\n",
      "Mean Absolute Error:  4.264987823725981\n",
      "Mean Squared Error:  28.33778823308244\n",
      "R2 Score:  0.8743042615212909\n",
      "----------------------------------------------------------------------------------------------------\n",
      "Model Performance For Testing Set\n",
      "Root Mean Squared Error:  5.390387016935642\n",
      "Mean Absolute Error:  4.211100688014261\n",
      "Mean Squared Error:  29.056272192348324\n",
      "R2 Score:  0.8805931485028737\n",
      "====================================================================================================\n",
      "KNN\n",
      "Model Performance For Training Set\n",
      "Root Mean Squared Error:  5.707683417990174\n",
      "Mean Absolute Error:  4.516749999999999\n",
      "Mean Squared Error:  32.57765\n",
      "R2 Score:  0.8554978341651085\n",
      "----------------------------------------------------------------------------------------------------\n",
      "Model Performance For Testing Set\n",
      "Root Mean Squared Error:  7.253040741647602\n",
      "Mean Absolute Error:  5.621\n",
      "Mean Squared Error:  52.6066\n",
      "R2 Score:  0.7838129945787431\n",
      "====================================================================================================\n",
      "DecisionTree\n",
      "Model Performance For Training Set\n",
      "Root Mean Squared Error:  0.2795084971874737\n",
      "Mean Absolute Error:  0.01875\n",
      "Mean Squared Error:  0.078125\n",
      "R2 Score:  0.9996534669718089\n",
      "----------------------------------------------------------------------------------------------------\n",
      "Model Performance For Testing Set\n",
      "Root Mean Squared Error:  8.3773504164503\n",
      "Mean Absolute Error:  6.59\n",
      "Mean Squared Error:  70.18\n",
      "R2 Score:  0.711595046240133\n",
      "====================================================================================================\n",
      "randomforest\n",
      "Model Performance For Training Set\n",
      "Root Mean Squared Error:  2.275712937417551\n",
      "Mean Absolute Error:  1.8130864583333333\n",
      "Mean Squared Error:  5.178869373529619\n",
      "R2 Score:  0.9770284891313211\n",
      "----------------------------------------------------------------------------------------------------\n",
      "Model Performance For Testing Set\n",
      "Root Mean Squared Error:  5.987889541086242\n",
      "Mean Absolute Error:  4.656879166666667\n",
      "Mean Squared Error:  35.85482115625\n",
      "R2 Score:  0.8526544879219639\n",
      "====================================================================================================\n",
      "Catboost\n",
      "Model Performance For Training Set\n",
      "Root Mean Squared Error:  3.042664195326799\n",
      "Mean Absolute Error:  2.405393926779502\n",
      "Mean Squared Error:  9.257805405523678\n",
      "R2 Score:  0.9589358676277713\n",
      "----------------------------------------------------------------------------------------------------\n",
      "Model Performance For Testing Set\n",
      "Root Mean Squared Error:  6.008631956907363\n",
      "Mean Absolute Error:  4.612531714976557\n",
      "Mean Squared Error:  36.10365799356841\n",
      "R2 Score:  0.8516318920747058\n",
      "====================================================================================================\n",
      "Xgb\n",
      "Model Performance For Training Set\n",
      "Root Mean Squared Error:  1.0072816737145132\n",
      "Mean Absolute Error:  0.687466561794281\n",
      "Mean Squared Error:  1.0146163702011108\n",
      "R2 Score:  0.9954995512962341\n",
      "----------------------------------------------------------------------------------------------------\n",
      "Model Performance For Testing Set\n",
      "Root Mean Squared Error:  6.47330716071189\n",
      "Mean Absolute Error:  5.057730674743652\n",
      "Mean Squared Error:  41.90370559692383\n",
      "R2 Score:  0.8277965784072876\n",
      "====================================================================================================\n"
     ]
    },
    {
     "name": "stderr",
     "output_type": "stream",
     "text": [
      "c:\\projects\\MLproject1\\myproj\\Lib\\site-packages\\xgboost\\training.py:183: UserWarning: [22:31:05] WARNING: C:\\actions-runner\\_work\\xgboost\\xgboost\\src\\learner.cc:738: \n",
      "Parameters: { \"verbose\" } are not used.\n",
      "\n",
      "  bst.update(dtrain, iteration=i, fobj=obj)\n"
     ]
    },
    {
     "name": "stdout",
     "output_type": "stream",
     "text": [
      "Adaboost\n",
      "Model Performance For Training Set\n",
      "Root Mean Squared Error:  5.8263513114527035\n",
      "Mean Absolute Error:  4.75243836334702\n",
      "Mean Squared Error:  33.94636960446664\n",
      "R2 Score:  0.8494267103343194\n",
      "----------------------------------------------------------------------------------------------------\n",
      "Model Performance For Testing Set\n",
      "Root Mean Squared Error:  6.163897367026642\n",
      "Mean Absolute Error:  4.83670525269831\n",
      "Mean Squared Error:  37.99363075123797\n",
      "R2 Score:  0.8438650424625215\n",
      "====================================================================================================\n"
     ]
    }
   ],
   "source": [
    "models =  {\n",
    "    \"LinearRegression\" : LinearRegression(),\n",
    "    \"Lasso\" : Lasso(),\n",
    "    \"Ridge\" : Ridge(),\n",
    "    \"KNN\" : KNeighborsRegressor(),\n",
    "    \"DecisionTree\" : DecisionTreeRegressor(),\n",
    "    \"randomforest\" : RandomForestRegressor(),\n",
    "    \"Catboost\" : CatBoostRegressor(verbose=0),\n",
    "    \"Xgb\" : XGBRegressor(verbose=0),\n",
    "    \"Adaboost\" : AdaBoostRegressor()\n",
    "    }\n",
    "\n",
    "model_list =[]\n",
    "r2_list = []\n",
    "\n",
    "\n",
    "for i in range(len(models)):\n",
    "    model = list(models.values())[i]\n",
    "    model.fit(X_train,Y_train)\n",
    "\n",
    "    Y_train_pred = model.predict(X_train)\n",
    "    Y_test_pred = model.predict(X_test)\n",
    "\n",
    "    model_train_mae,model_train_mse,model_train_rmse,model_train_r2 = evaluate_model(Y_train,Y_train_pred)\n",
    "    model_test_mae,model_test_mse,model_test_rmse,model_test_r2 = evaluate_model(Y_test,Y_test_pred)\n",
    "\n",
    "    print(list(models.keys())[i])\n",
    "    model_list.append(list(models.keys())[i])\n",
    "\n",
    "    print(\"Model Performance For Training Set\")\n",
    "\n",
    "    print(\"Root Mean Squared Error: \",model_train_rmse)\n",
    "    print(\"Mean Absolute Error: \",model_train_mae)\n",
    "    print(\"Mean Squared Error: \",model_train_mse)   \n",
    "    print(\"R2 Score: \",model_train_r2)\n",
    "    print(\"--\"* 50)\n",
    "    print(\"Model Performance For Testing Set\")\n",
    "    print(\"Root Mean Squared Error: \",model_test_rmse)      \n",
    "    print(\"Mean Absolute Error: \",model_test_mae)\n",
    "    print(\"Mean Squared Error: \",model_test_mse)\n",
    "    print(\"R2 Score: \",model_test_r2)\n",
    "\n",
    "    r2_list.append(model_test_r2)\n",
    "\n",
    "    print(\"==\"  * 50)\n"
   ]
  },
  {
   "cell_type": "code",
   "execution_count": 21,
   "id": "a0557832",
   "metadata": {},
   "outputs": [
    {
     "name": "stdout",
     "output_type": "stream",
     "text": [
      "Linear Regression R2 Score:  0.8804332983749565\n"
     ]
    },
    {
     "data": {
      "image/png": "[encoded data removed]",
      "text/plain": [
       "<Figure size 640x480 with 1 Axes>"
      ]
     },
     "metadata": {},
     "output_type": "display_data"
    }
   ],
   "source": [
    "lin_model = LinearRegression(fit_intercept=True)\n",
    "lin_model.fit(X_train,Y_train)\n",
    "Y_pred = lin_model.predict(X_test)\n",
    "score = r2_score(Y_test,Y_pred)\n",
    "print(\"Linear Regression R2 Score: \", score)\n",
    "plt.scatter(Y_test, Y_pred)\n",
    "plt.xlabel(\"Actual Values\")\n",
    "plt.ylabel(\"Predicted Values\")      \n",
    "plt.title(\"Linear Regression Predictions\")\n",
    "plt.show()\n"
   ]
  },
  {
   "cell_type": "code",
   "execution_count": null,
   "id": "218e9c60",
   "metadata": {},
   "outputs": [],
   "source": []
  },
  {
   "cell_type": "code",
   "execution_count": null,
   "id": "e835b4ed",
   "metadata": {},
   "outputs": [],
   "source": []
  }
 ],
 "metadata": {
  "kernelspec": {
   "display_name": "Python 3",
   "language": "python",
   "name": "python3"
  },
  "language_info": {
   "codemirror_mode": {
    "name": "ipython",
    "version": 3
   },
   "file_extension": ".py",
   "mimetype": "text/x-python",
   "name": "python",
   "nbconvert_exporter": "python",
   "pygments_lexer": "ipython3",
   "version": "3.13.0"
  }
 },
 "nbformat": 4,
 "nbformat_minor": 5
}
